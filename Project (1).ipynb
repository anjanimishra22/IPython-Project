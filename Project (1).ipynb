{
 "cells": [
  {
   "cell_type": "code",
   "execution_count": 40,
   "metadata": {},
   "outputs": [
    {
     "name": "stdout",
     "output_type": "stream",
     "text": [
      "loop execution 0 [7, 6, 5, 3, 2, 8]\n",
      "loop execution 1 [6, 5, 3, 2, 7, 8]\n",
      "loop execution 2 [5, 3, 2, 6, 7, 8]\n",
      "loop execution 3 [3, 2, 5, 6, 7, 8]\n",
      "loop execution 4 [2, 3, 5, 6, 7, 8]\n",
      "\n",
      "The sorted list is:  [2, 3, 5, 6, 7, 8]\n"
     ]
    }
   ],
   "source": [
    "\n",
    "#BUBBLE SORT\n",
    "l1=[8,7,6,5,3,2]\n",
    "n=len(l1)\n",
    "for i in range (0,n-1):\n",
    "    for j in range (0,n-i-1):\n",
    "        if(l1[j]>l1[j+1]):\n",
    "            temp=l1[j]\n",
    "            l1[j]=l1[j+1]\n",
    "            l1[j+1]=temp\n",
    "            \n",
    "    print ('loop execution %d' % (i),(l1))\n",
    "            \n",
    "\n",
    "print(\"\\nThe sorted list is: \",l1)\n"
   ]
  },
  {
   "cell_type": "code",
   "execution_count": 21,
   "metadata": {},
   "outputs": [
    {
     "name": "stdout",
     "output_type": "stream",
     "text": [
      "loop execution 0 [1, 5, 4, 3, 2]\n",
      "loop execution 1 [1, 2, 5, 4, 3]\n",
      "loop execution 2 [1, 2, 3, 5, 4]\n",
      "loop execution 3 [1, 2, 3, 4, 5]\n",
      "loop execution 4 [1, 2, 3, 4, 5]\n",
      "\n",
      "The sorted list is:  [1, 2, 3, 4, 5]\n"
     ]
    }
   ],
   "source": [
    "#SELECTION SORT\n",
    "l1=[5,3,4,2,1]\n",
    "n=len(l1)\n",
    "for i in range (0,n):\n",
    "    for j in range (i+1,n):\n",
    "        if(l1[i]>l1[j]):\n",
    "            temp=l1[i]\n",
    "            l1[i]=l1[j]\n",
    "            l1[j]=temp\n",
    "            \n",
    "    print ('loop execution %d' % (i),(l1))\n",
    "            \n",
    "\n",
    "print(\"\\nThe sorted list is: \",l1)\n"
   ]
  },
  {
   "cell_type": "code",
   "execution_count": 9,
   "metadata": {},
   "outputs": [
    {
     "name": "stdout",
     "output_type": "stream",
     "text": [
      "Enter a string:\tMy name is Tom Marvolo Riddle\n",
      "The no. of capital words are: 4\n"
     ]
    }
   ],
   "source": [
    "#COUNT NO. OF PROPER NOUNS\n",
    "str1= input(\"Enter a string:\\t\")\n",
    "n=len(str1)\n",
    "count=1\n",
    "        \n",
    "\n",
    "for i in range (0,n):\n",
    "    if (str1[i]==' ' and (ord(str1[i+1])>= 65 and ord(str1[i+1])<=90)):\n",
    "        count=count+1\n",
    "        \n",
    "print(\"The no. of capital words are:\", count)"
   ]
  },
  {
   "cell_type": "code",
   "execution_count": 19,
   "metadata": {},
   "outputs": [
    {
     "name": "stdout",
     "output_type": "stream",
     "text": [
      "Enter a word:\tmadam\n",
      "The string is a palindrome\n"
     ]
    }
   ],
   "source": [
    "#PALINDROME\n",
    "str2=input('Enter a word:\\t')\n",
    "\n",
    "n=len(str2)\n",
    "\n",
    "for i in range (0,int(n/2)):\n",
    "    if str2[i]==str2[n-i-1] :\n",
    "        continue     \n",
    "    else:\n",
    "        print('The string is not a palindrome',exit) \n",
    "    \n",
    "print('The string is a palindrome')\n",
    "        \n",
    "   \n",
    "    \n",
    "\n"
   ]
  },
  {
   "cell_type": "code",
   "execution_count": 33,
   "metadata": {},
   "outputs": [
    {
     "name": "stdout",
     "output_type": "stream",
     "text": [
      "enter a string : \tthe game is on\n",
      "\n",
      "Enter the word: \tgame\n",
      "\n",
      "The substring is present 1 times\n"
     ]
    }
   ],
   "source": [
    "#COUNT FREQUENCY OF SUBSTR IN MAIN STR\n",
    "count=0\n",
    "i=0\n",
    "j=0\n",
    "str3=input('enter a string : \\t')\n",
    "\n",
    "\n",
    "ch1=input(\"\\nEnter the word: \\t\")\n",
    "n=len(str3)\n",
    "l=len(ch1)\n",
    "   \n",
    "for i in range (0,n):\n",
    "    if(str3[i]==ch1[j]):\n",
    "        j=j+1\n",
    "    else:\n",
    "        j=0\n",
    "    if j==l:\n",
    "        j=0\n",
    "        count=count+1\n",
    "        \n",
    "    \n",
    "               \n",
    "print(\"\\nThe substring is present %d times\"% (count))\n",
    "    \n",
    "    "
   ]
  },
  {
   "cell_type": "code",
   "execution_count": 39,
   "metadata": {},
   "outputs": [
    {
     "name": "stdout",
     "output_type": "stream",
     "text": [
      "Enter the first number:4\n",
      "Enter the second number:3\n",
      "1.Add\n",
      "2.Subtract\n",
      "3.Multiply\n",
      "4.Divide\n",
      "5.Quotient\n",
      "6.Exponent\n",
      "Enter your choice:\t2\n",
      "The subtraction is:  1\n"
     ]
    }
   ],
   "source": [
    "#CALCULATOR\n",
    "\n",
    "def add(a,b):\n",
    "    return int(a+b)\n",
    "def sub(a,b):\n",
    "    return a-b\n",
    "def mult(a,b):\n",
    "    return a*b\n",
    "def div(a,b):\n",
    "    return a/b\n",
    "def quot(a,b):\n",
    "    return a//b\n",
    "def exp(a,b):\n",
    "    return a**b\n",
    " \n",
    "x=int(input('Enter the first number:'))\n",
    "y=int(input('Enter the second number:'))\n",
    "\n",
    "num1=int(input('1.Add\\n2.Subtract\\n3.Multiply\\n4.Divide\\n5.Quotient\\n6.Exponent\\nEnter your choice:\\t'))\n",
    "\n",
    "if num1==1:\n",
    "    print('The sum is: ',add(x,y))\n",
    "elif num1==2:\n",
    "    print('The subtraction is: ',sub(x,y))\n",
    "elif num1==3:\n",
    "    print('The multiplication is: ',mult(x,y))\n",
    "elif num1==4:\n",
    "    print('The Division is:',div(x,y))\n",
    "elif num1==5:\n",
    "    print ('The Quotient is: ',quot(x,y))\n",
    "elif num1==6:\n",
    "    print('The exponent is:',exp(x,y))\n",
    "else:\n",
    "    print('Invalid Input')"
   ]
  },
  {
   "cell_type": "code",
   "execution_count": 5,
   "metadata": {},
   "outputs": [
    {
     "name": "stdout",
     "output_type": "stream",
     "text": [
      "Enter the no. of terms:\t5\n",
      "The fibbonaci series is:\t\n",
      "0 \t\n",
      "1 \t\n",
      "1 \t\n",
      "2 \t\n",
      "3 \t\n"
     ]
    }
   ],
   "source": [
    "#FIBBONACI_NUMBERS\n",
    "\n",
    "def fibbo(n): \n",
    "    a=0\n",
    "    b=1\n",
    "    next=0\n",
    "    for i in range (0,n):\n",
    "        print(next,\"\\t\")\n",
    "        a=b\n",
    "        b=next\n",
    "        next=a+b\n",
    "        \n",
    "num=int(input(\"Enter the no. of terms:\\t\"))\n",
    "print(\"The fibbonaci series is:\\t\")\n",
    "fibbo(num)\n",
    "    "
   ]
  },
  {
   "cell_type": "code",
   "execution_count": 6,
   "metadata": {},
   "outputs": [
    {
     "name": "stdout",
     "output_type": "stream",
     "text": [
      "Enter the limit:\t4\n",
      "\n",
      "The Fibbonaci series is:\t\n",
      "0 \t\n",
      "1 \t\n",
      "1 \t\n",
      "2 \t\n"
     ]
    }
   ],
   "source": [
    "#FIBBONACI_RECURSIVE_FUNC\n",
    "def fibbo(n):\n",
    "    if n==0:\n",
    "        return n\n",
    "    if n==1:\n",
    "        return n\n",
    "    return (fibbo(n-1)+fibbo(n-2))\n",
    "\n",
    "num=int(input(\"Enter the limit:\\t\"))\n",
    "print(\"\\nThe Fibbonaci series is:\\t\")\n",
    "for i in range(0,num):\n",
    "    term=fibbo(i)\n",
    "    print(term,\"\\t\")\n"
   ]
  },
  {
   "cell_type": "code",
   "execution_count": 14,
   "metadata": {},
   "outputs": [
    {
     "name": "stdout",
     "output_type": "stream",
     "text": [
      "Enter a string:\tabd\n",
      "{'a': 1, 'b': 1, 'c': 0, 'd': 1, 'e': 0, 'f': 0, 'g': 0, 'h': 0, 'i': 0, 'j': 0, 'k': 0, 'l': 0, 'm': 0, 'n': 0, 'o': 0, 'p': 0, 'q': 0, 'r': 0, 's': 0, 't': 0, 'u': 0, 'v': 0, 'w': 0, 'x': 0, 'y': 0, 'z': 0}\n"
     ]
    }
   ],
   "source": [
    "#COUNT CHARACTERS IN A STRING\n",
    "import string\n",
    "str5=input(\"Enter a string:\\t\")\n",
    "\n",
    "Dict={\n",
    "    'a':0,\n",
    "    'b':0,\n",
    "    'c':0,\n",
    "    'd':0,\n",
    "    'e':0,\n",
    "    'f':0,\n",
    "    'g':0,\n",
    "    'h':0,\n",
    "    'i':0,\n",
    "    'j':0,\n",
    "    'k':0,\n",
    "    'l':0,\n",
    "    'm':0,\n",
    "    'n':0,\n",
    "    'o':0,\n",
    "    'p':0,\n",
    "    'q':0,\n",
    "    'r':0,\n",
    "    's':0,\n",
    "    't':0,\n",
    "    'u':0,\n",
    "    'v':0,\n",
    "    'w':0,\n",
    "    'x':0,\n",
    "    'y':0,\n",
    "    'z':0\n",
    "}\n",
    "\n",
    "n=len(str5)\n",
    "for i in range(0,n):\n",
    "    for j in string.ascii_lowercase:\n",
    "        if str5[i]==j:\n",
    "            Dict[j]=Dict[j]+1\n",
    "            \n",
    "print(Dict)"
   ]
  },
  {
   "cell_type": "code",
   "execution_count": 15,
   "metadata": {},
   "outputs": [
    {
     "name": "stdout",
     "output_type": "stream",
     "text": [
      "Enter the first number\t:3\n",
      "Enter the second number\t:4\n",
      "Enter the limit:\t10\n",
      "The series is: \n",
      "\n",
      "3 \t\n",
      "4 \t\n",
      "6 \t\n",
      "8 \t\n",
      "9 \t\n",
      "Count 5\n"
     ]
    }
   ],
   "source": [
    "#DIVISIBLE_NUMBERS\n",
    "\n",
    "m1=int(input(\"Enter the first number\\t:\"))\n",
    "m2=int(input(\"Enter the second number\\t:\"))\n",
    "\n",
    "n=int(input(\"Enter the limit:\\t\"))\n",
    "count=0\n",
    "print(\"The series is: \\n\")\n",
    "for i in range (1,n+1):\n",
    "    if i%m1==0 or i%m2==0:\n",
    "        print(i,\"\\t\")\n",
    "        count=count+1\n",
    "print(\"Count\",count)"
   ]
  },
  {
   "cell_type": "code",
   "execution_count": null,
   "metadata": {
    "collapsed": true
   },
   "outputs": [],
   "source": []
  }
 ],
 "metadata": {
  "kernelspec": {
   "display_name": "Python 3",
   "language": "python",
   "name": "python3"
  },
  "language_info": {
   "codemirror_mode": {
    "name": "ipython",
    "version": 3
   },
   "file_extension": ".py",
   "mimetype": "text/x-python",
   "name": "python",
   "nbconvert_exporter": "python",
   "pygments_lexer": "ipython3",
   "version": "3.6.3"
  }
 },
 "nbformat": 4,
 "nbformat_minor": 2
}
